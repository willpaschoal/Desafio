{
 "cells": [
  {
   "cell_type": "markdown",
   "metadata": {},
   "source": [
    "# Desafio Engenheiro de Dados"
   ]
  },
  {
   "cell_type": "markdown",
   "metadata": {},
   "source": [
    "**Criação do contexto:**"
   ]
  },
  {
   "cell_type": "code",
   "execution_count": 1,
   "metadata": {},
   "outputs": [],
   "source": [
    "from pyspark import SparkContext\n",
    "sc = SparkContext.getOrCreate()\n"
   ]
  },
  {
   "cell_type": "markdown",
   "metadata": {},
   "source": [
    "**Importando os arquivos de log em duas RDDs:**"
   ]
  },
  {
   "cell_type": "code",
   "execution_count": 2,
   "metadata": {},
   "outputs": [],
   "source": [
    "rddJuly = sc.textFile(\"access_log_Jul95\").cache()\n",
    "rddAugust = sc.textFile(\"access_log_Aug95\").cache()\n"
   ]
  },
  {
   "cell_type": "markdown",
   "metadata": {},
   "source": [
    "**Verificando se as RDDs foram criadas:**"
   ]
  },
  {
   "cell_type": "code",
   "execution_count": 3,
   "metadata": {},
   "outputs": [
    {
     "data": {
      "text/plain": [
       "pyspark.rdd.RDD"
      ]
     },
     "execution_count": 3,
     "metadata": {},
     "output_type": "execute_result"
    }
   ],
   "source": [
    "type(rddJuly)\n"
   ]
  },
  {
   "cell_type": "code",
   "execution_count": 4,
   "metadata": {},
   "outputs": [
    {
     "data": {
      "text/plain": [
       "pyspark.rdd.RDD"
      ]
     },
     "execution_count": 4,
     "metadata": {},
     "output_type": "execute_result"
    }
   ],
   "source": [
    "type(rddAugust)"
   ]
  },
  {
   "cell_type": "markdown",
   "metadata": {},
   "source": [
    "**Imprimindo as dez primeiras linhas dos RDDs para testar se foi importado com sucesso:**"
   ]
  },
  {
   "cell_type": "code",
   "execution_count": 5,
   "metadata": {},
   "outputs": [
    {
     "name": "stdout",
     "output_type": "stream",
     "text": [
      "['199.72.81.55 - - [01/Jul/1995:00:00:01 -0400] \"GET /history/apollo/ HTTP/1.0\" 200 6245', 'unicomp6.unicomp.net - - [01/Jul/1995:00:00:06 -0400] \"GET /shuttle/countdown/ HTTP/1.0\" 200 3985', '199.120.110.21 - - [01/Jul/1995:00:00:09 -0400] \"GET /shuttle/missions/sts-73/mission-sts-73.html HTTP/1.0\" 200 4085', 'burger.letters.com - - [01/Jul/1995:00:00:11 -0400] \"GET /shuttle/countdown/liftoff.html HTTP/1.0\" 304 0', '199.120.110.21 - - [01/Jul/1995:00:00:11 -0400] \"GET /shuttle/missions/sts-73/sts-73-patch-small.gif HTTP/1.0\" 200 4179', 'burger.letters.com - - [01/Jul/1995:00:00:12 -0400] \"GET /images/NASA-logosmall.gif HTTP/1.0\" 304 0', 'burger.letters.com - - [01/Jul/1995:00:00:12 -0400] \"GET /shuttle/countdown/video/livevideo.gif HTTP/1.0\" 200 0', '205.212.115.106 - - [01/Jul/1995:00:00:12 -0400] \"GET /shuttle/countdown/countdown.html HTTP/1.0\" 200 3985', 'd104.aa.net - - [01/Jul/1995:00:00:13 -0400] \"GET /shuttle/countdown/ HTTP/1.0\" 200 3985', '129.94.144.152 - - [01/Jul/1995:00:00:13 -0400] \"GET / HTTP/1.0\" 200 7074']\n"
     ]
    }
   ],
   "source": [
    "print(rddJuly.take(10))"
   ]
  },
  {
   "cell_type": "code",
   "execution_count": 6,
   "metadata": {},
   "outputs": [
    {
     "name": "stdout",
     "output_type": "stream",
     "text": [
      "['in24.inetnebr.com - - [01/Aug/1995:00:00:01 -0400] \"GET /shuttle/missions/sts-68/news/sts-68-mcc-05.txt HTTP/1.0\" 200 1839', 'uplherc.upl.com - - [01/Aug/1995:00:00:07 -0400] \"GET / HTTP/1.0\" 304 0', 'uplherc.upl.com - - [01/Aug/1995:00:00:08 -0400] \"GET /images/ksclogo-medium.gif HTTP/1.0\" 304 0', 'uplherc.upl.com - - [01/Aug/1995:00:00:08 -0400] \"GET /images/MOSAIC-logosmall.gif HTTP/1.0\" 304 0', 'uplherc.upl.com - - [01/Aug/1995:00:00:08 -0400] \"GET /images/USA-logosmall.gif HTTP/1.0\" 304 0', 'ix-esc-ca2-07.ix.netcom.com - - [01/Aug/1995:00:00:09 -0400] \"GET /images/launch-logo.gif HTTP/1.0\" 200 1713', 'uplherc.upl.com - - [01/Aug/1995:00:00:10 -0400] \"GET /images/WORLD-logosmall.gif HTTP/1.0\" 304 0', 'slppp6.intermind.net - - [01/Aug/1995:00:00:10 -0400] \"GET /history/skylab/skylab.html HTTP/1.0\" 200 1687', 'piweba4y.prodigy.com - - [01/Aug/1995:00:00:10 -0400] \"GET /images/launchmedium.gif HTTP/1.0\" 200 11853', 'slppp6.intermind.net - - [01/Aug/1995:00:00:11 -0400] \"GET /history/skylab/skylab-small.gif HTTP/1.0\" 200 9202']\n"
     ]
    }
   ],
   "source": [
    "print(rddAugust.take(10))"
   ]
  },
  {
   "cell_type": "markdown",
   "metadata": {},
   "source": [
    "# Questões\n"
   ]
  },
  {
   "cell_type": "markdown",
   "metadata": {},
   "source": [
    "**Responda as seguintes questões devem ser desenvolvidas em Spark utilizando a sua linguagem de preferência.**"
   ]
  },
  {
   "cell_type": "markdown",
   "metadata": {},
   "source": [
    "1. Número de hosts únicos."
   ]
  },
  {
   "cell_type": "code",
   "execution_count": 7,
   "metadata": {},
   "outputs": [
    {
     "name": "stdout",
     "output_type": "stream",
     "text": [
      "July Distinct Hosts: 55\n"
     ]
    }
   ],
   "source": [
    "JulyHosts = rddJuly.flatMap(lambda line: line.split(' ')[0]).distinct().count()\n",
    "\n",
    "print('July Distinct Hosts: %s' % JulyHosts)"
   ]
  },
  {
   "cell_type": "code",
   "execution_count": 8,
   "metadata": {},
   "outputs": [
    {
     "name": "stdout",
     "output_type": "stream",
     "text": [
      "August Distinct Hosts: 53\n"
     ]
    }
   ],
   "source": [
    "AugustHosts = rddAugust.flatMap(lambda line: line.split(' ')[0]).distinct().count()\n",
    "\n",
    "print('August Distinct Hosts: %s' % AugustHosts)"
   ]
  },
  {
   "cell_type": "markdown",
   "metadata": {},
   "source": [
    "2. O total de erros 404."
   ]
  },
  {
   "cell_type": "code",
   "execution_count": 9,
   "metadata": {},
   "outputs": [
    {
     "name": "stdout",
     "output_type": "stream",
     "text": [
      "Total July Error 404: 10845\n"
     ]
    }
   ],
   "source": [
    "def check_404(l):\n",
    "    try:\n",
    "        if l.split(' ')[-2] == '404':\n",
    "            return True\n",
    "    except:\n",
    "        return False\n",
    "\n",
    "Error404July = dict(rddJuly.filter(check_404)\n",
    "                           .filter(lambda line: '404' in line)\n",
    "                           .map(lambda x: (x.split( )[-2],1))\n",
    "                           .reduceByKey(lambda k,v : k+v).collect())\n",
    "\n",
    "print('Total July Error 404:', Error404July['404'])"
   ]
  },
  {
   "cell_type": "code",
   "execution_count": 10,
   "metadata": {},
   "outputs": [
    {
     "name": "stdout",
     "output_type": "stream",
     "text": [
      "Total August Error 404: 10056\n"
     ]
    }
   ],
   "source": [
    "#Primeira Solução\n",
    "Error404August = rddAugust.map(lambda x: x.split( )[-2]).filter(lambda line: \"404\" in line).countByValue()\n",
    "\n",
    "print('Total August Error 404:', Error404August['404'])"
   ]
  },
  {
   "cell_type": "code",
   "execution_count": 11,
   "metadata": {},
   "outputs": [
    {
     "name": "stdout",
     "output_type": "stream",
     "text": [
      "Total August Error 404: 10056\n"
     ]
    }
   ],
   "source": [
    "#Segunda Solução, igual a anterior mas utilizando reduceByKey() ao invés de countByKey()\n",
    "Error404August = dict(rddAugust.map(lambda x: (x.split( )[-2], 1))\n",
    "                               .filter(lambda line: \"404\" in line)\n",
    "                               .reduceByKey(lambda k,v : k+v).collect())\n",
    "\n",
    "print('Total August Error 404:', Error404August['404'])"
   ]
  },
  {
   "cell_type": "markdown",
   "metadata": {},
   "source": [
    "3. Os 5 URLs que mais causaram erro 404."
   ]
  },
  {
   "cell_type": "code",
   "execution_count": 12,
   "metadata": {},
   "outputs": [
    {
     "name": "stdout",
     "output_type": "stream",
     "text": [
      "***** TOP FIVE URL ERRORS 404 JULY *****\n",
      "TOP: 1 - URL: /pub/winvn/readme.txt  - Errors: 667\n",
      "TOP: 2 - URL: /pub/winvn/release.txt  - Errors: 547\n",
      "TOP: 3 - URL: /history/apollo/apollo-13.html  - Errors: 286\n",
      "TOP: 4 - URL: /shuttle/resources/orbiters/atlantis.gif  - Errors: 230\n",
      "TOP: 5 - URL: /://spacelink.msfc.nasa.gov  - Errors: 215\n"
     ]
    }
   ],
   "source": [
    "def check_404(l):\n",
    "    try:\n",
    "        if l.split(' ')[-2] == '404':\n",
    "            return True\n",
    "    except:\n",
    "        return False\n",
    "\n",
    "Error404July = rddJuly.filter(check_404).map(lambda x: (x.split( )[6], x.split( )[-2])).filter(lambda line: '404' in line).map(lambda x: (x,1)).reduceByKey(lambda k,v : k+v).map(lambda x: (x[1], x[0])).sortByKey(ascending=False)\n",
    "\n",
    "print('***** TOP FIVE URL ERRORS 404 JULY *****')\n",
    "top = dict(Error404July.take(7))\n",
    "x = 0\n",
    "for i in top:\n",
    "    l = list(top.values())[x]\n",
    "    print('TOP:', x + 1, '- URL:', l[0] , ' - Errors:', list(top.keys())[x])\n",
    "    x = x + 1"
   ]
  },
  {
   "cell_type": "code",
   "execution_count": 13,
   "metadata": {},
   "outputs": [
    {
     "name": "stdout",
     "output_type": "stream",
     "text": [
      "***** TOP FIVE URL ERRORS 404 AUGUST *****\n",
      "TOP: 1 - URL:  /pub/winvn/readme.txt  - Errors:  1337\n",
      "TOP: 2 - URL:  /pub/winvn/release.txt  - Errors:  1185\n",
      "TOP: 3 - URL:  /shuttle/missions/STS-69/mission-STS-69.html  - Errors:  682\n",
      "TOP: 4 - URL:  /images/nasa-logo.gif  - Errors:  319\n",
      "TOP: 5 - URL:  /shuttle/missions/sts-68/ksc-upclose.gif  - Errors:  251\n"
     ]
    }
   ],
   "source": [
    "Error404August = rddAugust.map(lambda x: (x.split( )[6], x.split( )[-2])).filter(lambda line: '404' in line).map(lambda x: (x,1)).reduceByKey(lambda k,v : k+v).map(lambda x: (x[1], x[0])).sortByKey(ascending=False)\n",
    "\n",
    "print('***** TOP FIVE URL ERRORS 404 AUGUST *****')\n",
    "top = dict(Error404August.take(5))\n",
    "x = 0\n",
    "for i in top:\n",
    "    l = list(top.values())[x]\n",
    "    print('TOP:', x + 1, '- URL: ', l[0] , ' - Errors: ', list(top.keys())[x])\n",
    "    x = x + 1"
   ]
  },
  {
   "cell_type": "markdown",
   "metadata": {},
   "source": [
    "4. Quantidade de erros 404 por dia."
   ]
  },
  {
   "cell_type": "code",
   "execution_count": 14,
   "metadata": {},
   "outputs": [
    {
     "name": "stdout",
     "output_type": "stream",
     "text": [
      "***** Errors 404 per Day (July) *****\n",
      "Day: 01  - Errors:  316\n",
      "Day: 02  - Errors:  291\n",
      "Day: 03  - Errors:  474\n",
      "Day: 04  - Errors:  359\n",
      "Day: 05  - Errors:  497\n",
      "Day: 06  - Errors:  640\n",
      "Day: 07  - Errors:  570\n",
      "Day: 08  - Errors:  302\n",
      "Day: 09  - Errors:  348\n",
      "Day: 10  - Errors:  398\n",
      "Day: 11  - Errors:  471\n",
      "Day: 12  - Errors:  471\n",
      "Day: 13  - Errors:  532\n",
      "Day: 14  - Errors:  413\n",
      "Day: 15  - Errors:  254\n",
      "Day: 16  - Errors:  257\n",
      "Day: 17  - Errors:  406\n",
      "Day: 18  - Errors:  465\n",
      "Day: 19  - Errors:  639\n",
      "Day: 20  - Errors:  428\n",
      "Day: 21  - Errors:  334\n",
      "Day: 22  - Errors:  192\n",
      "Day: 23  - Errors:  233\n",
      "Day: 24  - Errors:  328\n",
      "Day: 25  - Errors:  461\n",
      "Day: 26  - Errors:  336\n",
      "Day: 27  - Errors:  336\n",
      "Day: 28  - Errors:  94\n"
     ]
    }
   ],
   "source": [
    "def check_404(l):\n",
    "    try:\n",
    "        if l.split(' ')[-2] == '404':\n",
    "            return True\n",
    "    except:\n",
    "        return False\n",
    "\n",
    "Error404JulyDay = rddJuly.filter(check_404).map(lambda x: (x.split( )[3].split('[')[1].split('/')[0], x.split( )[-2])).filter(lambda line: '404' in line).sortByKey().countByKey()\n",
    "\n",
    "print('***** Errors 404 per Day (July) *****')\n",
    "x = 0\n",
    "for i in Error404JulyDay:\n",
    "    print('Day:', list(Error404JulyDay.keys())[x], ' - Errors: ', list(Error404JulyDay.values())[x])\n",
    "    x = x + 1\n"
   ]
  },
  {
   "cell_type": "code",
   "execution_count": 15,
   "metadata": {},
   "outputs": [
    {
     "name": "stdout",
     "output_type": "stream",
     "text": [
      "***** Errors 404 per Day (Agosto) *****\n",
      "Day: 01  - Errors:  243\n",
      "Day: 03  - Errors:  304\n",
      "Day: 04  - Errors:  346\n",
      "Day: 05  - Errors:  236\n",
      "Day: 06  - Errors:  373\n",
      "Day: 07  - Errors:  537\n",
      "Day: 08  - Errors:  391\n",
      "Day: 09  - Errors:  279\n",
      "Day: 10  - Errors:  315\n",
      "Day: 11  - Errors:  263\n",
      "Day: 12  - Errors:  196\n",
      "Day: 13  - Errors:  216\n",
      "Day: 14  - Errors:  287\n",
      "Day: 15  - Errors:  327\n",
      "Day: 16  - Errors:  259\n",
      "Day: 17  - Errors:  271\n",
      "Day: 18  - Errors:  256\n",
      "Day: 19  - Errors:  209\n",
      "Day: 20  - Errors:  312\n",
      "Day: 21  - Errors:  305\n",
      "Day: 22  - Errors:  288\n",
      "Day: 23  - Errors:  345\n",
      "Day: 24  - Errors:  420\n",
      "Day: 25  - Errors:  415\n",
      "Day: 26  - Errors:  366\n",
      "Day: 27  - Errors:  370\n",
      "Day: 28  - Errors:  410\n",
      "Day: 29  - Errors:  420\n",
      "Day: 30  - Errors:  571\n",
      "Day: 31  - Errors:  526\n"
     ]
    }
   ],
   "source": [
    "Error404AugustDay = rddAugust.map(lambda x: (x.split( )[3].split('[')[1].split('/')[0], x.split( )[-2])).filter(lambda line: '404' in line).sortByKey().countByKey()\n",
    "\n",
    "print('***** Errors 404 per Day (Agosto) *****')\n",
    "x = 0\n",
    "for i in Error404AugustDay:\n",
    "    print('Day:', list(Error404AugustDay.keys())[x], ' - Errors: ', list(Error404AugustDay.values())[x])\n",
    "    x = x + 1\n"
   ]
  },
  {
   "cell_type": "markdown",
   "metadata": {},
   "source": [
    "5. O total de bytes retornados. \n"
   ]
  },
  {
   "cell_type": "code",
   "execution_count": 16,
   "metadata": {},
   "outputs": [
    {
     "name": "stdout",
     "output_type": "stream",
     "text": [
      "Total bytes returned in July:  1891715\n"
     ]
    }
   ],
   "source": [
    "JulyBytesTotal = rddJuly.map(lambda x: (1,x.split( )[-1])).map(lambda x : x[0]).sum()\n",
    "\n",
    "print('Total bytes returned in July: ', JulyBytesTotal)"
   ]
  },
  {
   "cell_type": "code",
   "execution_count": 17,
   "metadata": {},
   "outputs": [
    {
     "name": "stdout",
     "output_type": "stream",
     "text": [
      "Total bytes returned in August:  1569898\n"
     ]
    }
   ],
   "source": [
    "AugustBytesTotal = rddAugust.map(lambda x: (1,x.split( )[-1])).map(lambda x : x[0]).sum()\n",
    "\n",
    "print('Total bytes returned in August: ', AugustBytesTotal)"
   ]
  },
  {
   "cell_type": "code",
   "execution_count": null,
   "metadata": {},
   "outputs": [],
   "source": []
  }
 ],
 "metadata": {
  "kernelspec": {
   "display_name": "Python 3",
   "language": "python",
   "name": "python3"
  },
  "language_info": {
   "codemirror_mode": {
    "name": "ipython",
    "version": 3
   },
   "file_extension": ".py",
   "mimetype": "text/x-python",
   "name": "python",
   "nbconvert_exporter": "python",
   "pygments_lexer": "ipython3",
   "version": "3.7.1"
  }
 },
 "nbformat": 4,
 "nbformat_minor": 2
}
